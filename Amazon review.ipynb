{
 "cells": [
  {
   "cell_type": "markdown",
   "id": "43af0149",
   "metadata": {
    "id": "43af0149"
   },
   "source": [
    "# Applied machine learning - Amazon Reviews"
   ]
  },
  {
   "cell_type": "code",
   "execution_count": 79,
   "id": "4d15bef5",
   "metadata": {
    "id": "4d15bef5"
   },
   "outputs": [],
   "source": [
    "import matplotlib.pyplot as plt\n",
    "import pandas as pd\n",
    "import numpy as np\n",
    "import seaborn as sns\n",
    "import math\n",
    "# nltk\n",
    "from nltk.stem import WordNetLemmatizer\n",
    "from nltk.corpus import stopwords\n",
    "from nltk.stem.porter import PorterStemmer\n",
    "#from wordcloud import WordCloud\n",
    "from nltk.tokenize import word_tokenize,sent_tokenize\n",
    "from bs4 import BeautifulSoup\n",
    "import warnings\n",
    "warnings.filterwarnings('ignore') # Hides warning\n",
    "warnings.filterwarnings(\"ignore\", category=DeprecationWarning)\n",
    "warnings.filterwarnings(\"ignore\",category=UserWarning)\n",
    "sns.set_style(\"whitegrid\") # Plotting style\n",
    "np.random.seed(7) # seeding random number generator"
   ]
  },
  {
   "cell_type": "code",
   "execution_count": 80,
   "id": "460fd527",
   "metadata": {
    "colab": {
     "base_uri": "https://localhost:8080/",
     "height": 423
    },
    "id": "460fd527",
    "outputId": "8f1141ad-b7a7-4ce2-b5a5-6fff2385692f"
   },
   "outputs": [
    {
     "data": {
      "text/html": [
       "<div>\n",
       "<style scoped>\n",
       "    .dataframe tbody tr th:only-of-type {\n",
       "        vertical-align: middle;\n",
       "    }\n",
       "\n",
       "    .dataframe tbody tr th {\n",
       "        vertical-align: top;\n",
       "    }\n",
       "\n",
       "    .dataframe thead th {\n",
       "        text-align: right;\n",
       "    }\n",
       "</style>\n",
       "<table border=\"1\" class=\"dataframe\">\n",
       "  <thead>\n",
       "    <tr style=\"text-align: right;\">\n",
       "      <th></th>\n",
       "      <th>review_id</th>\n",
       "      <th>text</th>\n",
       "      <th>verified</th>\n",
       "      <th>review_score</th>\n",
       "      <th>product_category</th>\n",
       "    </tr>\n",
       "  </thead>\n",
       "  <tbody>\n",
       "    <tr>\n",
       "      <th>0</th>\n",
       "      <td>product_review_000000</td>\n",
       "      <td>guitars look new.</td>\n",
       "      <td>False</td>\n",
       "      <td>5.0</td>\n",
       "      <td>musical_instruments</td>\n",
       "    </tr>\n",
       "    <tr>\n",
       "      <th>1</th>\n",
       "      <td>product_review_000001</td>\n",
       "      <td>I'd heard this game had crude humor, but man i...</td>\n",
       "      <td>True</td>\n",
       "      <td>4.0</td>\n",
       "      <td>video_games</td>\n",
       "    </tr>\n",
       "    <tr>\n",
       "      <th>2</th>\n",
       "      <td>product_review_000002</td>\n",
       "      <td>It's a decent game but nothing nearly as good ...</td>\n",
       "      <td>True</td>\n",
       "      <td>4.0</td>\n",
       "      <td>video_games</td>\n",
       "    </tr>\n",
       "    <tr>\n",
       "      <th>3</th>\n",
       "      <td>product_review_000003</td>\n",
       "      <td>This device worked exceptionally well for my X...</td>\n",
       "      <td>False</td>\n",
       "      <td>5.0</td>\n",
       "      <td>video_games</td>\n",
       "    </tr>\n",
       "    <tr>\n",
       "      <th>4</th>\n",
       "      <td>product_review_000004</td>\n",
       "      <td>great racing game, with a lot of cool cars to ...</td>\n",
       "      <td>True</td>\n",
       "      <td>4.0</td>\n",
       "      <td>video_games</td>\n",
       "    </tr>\n",
       "    <tr>\n",
       "      <th>...</th>\n",
       "      <td>...</td>\n",
       "      <td>...</td>\n",
       "      <td>...</td>\n",
       "      <td>...</td>\n",
       "      <td>...</td>\n",
       "    </tr>\n",
       "    <tr>\n",
       "      <th>32913</th>\n",
       "      <td>product_review_032913</td>\n",
       "      <td>OVERALL: This game is a must-buy by all standa...</td>\n",
       "      <td>False</td>\n",
       "      <td>5.0</td>\n",
       "      <td>video_games</td>\n",
       "    </tr>\n",
       "    <tr>\n",
       "      <th>32914</th>\n",
       "      <td>product_review_032914</td>\n",
       "      <td>I must say that I have all but given up on Son...</td>\n",
       "      <td>True</td>\n",
       "      <td>4.0</td>\n",
       "      <td>video_games</td>\n",
       "    </tr>\n",
       "    <tr>\n",
       "      <th>32915</th>\n",
       "      <td>product_review_032915</td>\n",
       "      <td>After considering various options for my 1976 ...</td>\n",
       "      <td>True</td>\n",
       "      <td>5.0</td>\n",
       "      <td>musical_instruments</td>\n",
       "    </tr>\n",
       "    <tr>\n",
       "      <th>32916</th>\n",
       "      <td>product_review_032916</td>\n",
       "      <td>We have had this for 1 day. But the charger it...</td>\n",
       "      <td>True</td>\n",
       "      <td>4.0</td>\n",
       "      <td>video_games</td>\n",
       "    </tr>\n",
       "    <tr>\n",
       "      <th>32917</th>\n",
       "      <td>product_review_032917</td>\n",
       "      <td>Easy to work with and sounds good.. Good price...</td>\n",
       "      <td>True</td>\n",
       "      <td>4.0</td>\n",
       "      <td>musical_instruments</td>\n",
       "    </tr>\n",
       "  </tbody>\n",
       "</table>\n",
       "<p>32918 rows × 5 columns</p>\n",
       "</div>"
      ],
      "text/plain": [
       "                   review_id  \\\n",
       "0      product_review_000000   \n",
       "1      product_review_000001   \n",
       "2      product_review_000002   \n",
       "3      product_review_000003   \n",
       "4      product_review_000004   \n",
       "...                      ...   \n",
       "32913  product_review_032913   \n",
       "32914  product_review_032914   \n",
       "32915  product_review_032915   \n",
       "32916  product_review_032916   \n",
       "32917  product_review_032917   \n",
       "\n",
       "                                                    text verified  \\\n",
       "0                                     guitars look new.     False   \n",
       "1      I'd heard this game had crude humor, but man i...     True   \n",
       "2      It's a decent game but nothing nearly as good ...     True   \n",
       "3      This device worked exceptionally well for my X...    False   \n",
       "4      great racing game, with a lot of cool cars to ...     True   \n",
       "...                                                  ...      ...   \n",
       "32913  OVERALL: This game is a must-buy by all standa...    False   \n",
       "32914  I must say that I have all but given up on Son...     True   \n",
       "32915  After considering various options for my 1976 ...     True   \n",
       "32916  We have had this for 1 day. But the charger it...     True   \n",
       "32917  Easy to work with and sounds good.. Good price...     True   \n",
       "\n",
       "       review_score     product_category  \n",
       "0               5.0  musical_instruments  \n",
       "1               4.0          video_games  \n",
       "2               4.0          video_games  \n",
       "3               5.0          video_games  \n",
       "4               4.0          video_games  \n",
       "...             ...                  ...  \n",
       "32913           5.0          video_games  \n",
       "32914           4.0          video_games  \n",
       "32915           5.0  musical_instruments  \n",
       "32916           4.0          video_games  \n",
       "32917           4.0  musical_instruments  \n",
       "\n",
       "[32918 rows x 5 columns]"
      ]
     },
     "execution_count": 80,
     "metadata": {},
     "output_type": "execute_result"
    }
   ],
   "source": [
    "df = pd.read_csv('processed_reviews_split_surnamesA_minimal.csv')\n",
    "df"
   ]
  },
  {
   "cell_type": "code",
   "execution_count": 81,
   "id": "96132875",
   "metadata": {
    "colab": {
     "base_uri": "https://localhost:8080/"
    },
    "id": "96132875",
    "outputId": "d4e8bf28-959f-44b3-de10-642bafe6b652"
   },
   "outputs": [
    {
     "data": {
      "text/plain": [
       "<bound method Series.count of 0        5.0\n",
       "1        4.0\n",
       "2        4.0\n",
       "3        5.0\n",
       "4        4.0\n",
       "        ... \n",
       "32913    5.0\n",
       "32914    4.0\n",
       "32915    5.0\n",
       "32916    4.0\n",
       "32917    4.0\n",
       "Name: review_score, Length: 32918, dtype: float64>"
      ]
     },
     "execution_count": 81,
     "metadata": {},
     "output_type": "execute_result"
    }
   ],
   "source": [
    "df.review_score.count"
   ]
  },
  {
   "cell_type": "markdown",
   "id": "3ce88726",
   "metadata": {
    "id": "3ce88726"
   },
   "source": [
    "### Data preprocessing"
   ]
  },
  {
   "cell_type": "code",
   "execution_count": 82,
   "id": "fee1cccf",
   "metadata": {
    "colab": {
     "base_uri": "https://localhost:8080/",
     "height": 300
    },
    "id": "fee1cccf",
    "outputId": "6b0843ba-d259-43d1-b7cb-5f75cd68b312"
   },
   "outputs": [
    {
     "data": {
      "text/html": [
       "<div>\n",
       "<style scoped>\n",
       "    .dataframe tbody tr th:only-of-type {\n",
       "        vertical-align: middle;\n",
       "    }\n",
       "\n",
       "    .dataframe tbody tr th {\n",
       "        vertical-align: top;\n",
       "    }\n",
       "\n",
       "    .dataframe thead th {\n",
       "        text-align: right;\n",
       "    }\n",
       "</style>\n",
       "<table border=\"1\" class=\"dataframe\">\n",
       "  <thead>\n",
       "    <tr style=\"text-align: right;\">\n",
       "      <th></th>\n",
       "      <th>review_score</th>\n",
       "    </tr>\n",
       "  </thead>\n",
       "  <tbody>\n",
       "    <tr>\n",
       "      <th>count</th>\n",
       "      <td>32918.000000</td>\n",
       "    </tr>\n",
       "    <tr>\n",
       "      <th>mean</th>\n",
       "      <td>4.088098</td>\n",
       "    </tr>\n",
       "    <tr>\n",
       "      <th>std</th>\n",
       "      <td>1.434291</td>\n",
       "    </tr>\n",
       "    <tr>\n",
       "      <th>min</th>\n",
       "      <td>-1.000000</td>\n",
       "    </tr>\n",
       "    <tr>\n",
       "      <th>25%</th>\n",
       "      <td>4.000000</td>\n",
       "    </tr>\n",
       "    <tr>\n",
       "      <th>50%</th>\n",
       "      <td>5.000000</td>\n",
       "    </tr>\n",
       "    <tr>\n",
       "      <th>75%</th>\n",
       "      <td>5.000000</td>\n",
       "    </tr>\n",
       "    <tr>\n",
       "      <th>max</th>\n",
       "      <td>5.000000</td>\n",
       "    </tr>\n",
       "  </tbody>\n",
       "</table>\n",
       "</div>"
      ],
      "text/plain": [
       "       review_score\n",
       "count  32918.000000\n",
       "mean       4.088098\n",
       "std        1.434291\n",
       "min       -1.000000\n",
       "25%        4.000000\n",
       "50%        5.000000\n",
       "75%        5.000000\n",
       "max        5.000000"
      ]
     },
     "execution_count": 82,
     "metadata": {},
     "output_type": "execute_result"
    }
   ],
   "source": [
    "data = df.copy()\n",
    "data.describe()"
   ]
  },
  {
   "cell_type": "code",
   "execution_count": 83,
   "id": "794d9222",
   "metadata": {
    "colab": {
     "base_uri": "https://localhost:8080/"
    },
    "id": "794d9222",
    "outputId": "55fdbd76-4b06-4e43-c707-a14b7e46e040"
   },
   "outputs": [
    {
     "name": "stdout",
     "output_type": "stream",
     "text": [
      "<class 'pandas.core.frame.DataFrame'>\n",
      "RangeIndex: 32918 entries, 0 to 32917\n",
      "Data columns (total 5 columns):\n",
      " #   Column            Non-Null Count  Dtype  \n",
      "---  ------            --------------  -----  \n",
      " 0   review_id         32918 non-null  object \n",
      " 1   text              32906 non-null  object \n",
      " 2   verified          32813 non-null  object \n",
      " 3   review_score      32918 non-null  float64\n",
      " 4   product_category  32012 non-null  object \n",
      "dtypes: float64(1), object(4)\n",
      "memory usage: 1.3+ MB\n"
     ]
    }
   ],
   "source": [
    "data.info()"
   ]
  },
  {
   "cell_type": "markdown",
   "id": "39b12867",
   "metadata": {
    "id": "Q0aY1YoMLAhK"
   },
   "source": [
    "Data preprocessing"
   ]
  },
  {
   "cell_type": "code",
   "execution_count": 84,
   "id": "666533eb",
   "metadata": {
    "colab": {
     "base_uri": "https://localhost:8080/"
    },
    "id": "666533eb",
    "outputId": "4e487377-c02b-459d-af17-761bfada13f9"
   },
   "outputs": [
    {
     "data": {
      "text/plain": [
       "array([ 5.,  4., -1.,  1.,  2.,  3.])"
      ]
     },
     "execution_count": 84,
     "metadata": {},
     "output_type": "execute_result"
    }
   ],
   "source": [
    "data[\"review_score\"].unique()"
   ]
  },
  {
   "cell_type": "code",
   "execution_count": 85,
   "id": "95874a3a",
   "metadata": {
    "colab": {
     "base_uri": "https://localhost:8080/"
    },
    "id": "95874a3a",
    "outputId": "83f05933-ddf8-4844-e264-cbbcdf3e2145"
   },
   "outputs": [
    {
     "name": "stdout",
     "output_type": "stream",
     "text": [
      "Number of Unique Review scores: 6\n"
     ]
    }
   ],
   "source": [
    "review_unique = len(data[\"review_score\"].unique())\n",
    "print(\"Number of Unique Review scores: \" + str(review_unique))"
   ]
  },
  {
   "cell_type": "markdown",
   "id": "e9423ddb",
   "metadata": {
    "id": "e9423ddb"
   },
   "source": [
    "### Data Exploration"
   ]
  },
  {
   "cell_type": "code",
   "execution_count": 86,
   "id": "1f946c21",
   "metadata": {},
   "outputs": [
    {
     "data": {
      "text/plain": [
       "0        5.0\n",
       "1        4.0\n",
       "2        4.0\n",
       "3        5.0\n",
       "4        4.0\n",
       "        ... \n",
       "32913    5.0\n",
       "32914    4.0\n",
       "32915    5.0\n",
       "32916    4.0\n",
       "32917    4.0\n",
       "Name: review_score, Length: 32918, dtype: float64"
      ]
     },
     "execution_count": 86,
     "metadata": {},
     "output_type": "execute_result"
    }
   ],
   "source": [
    "df.review_score      "
   ]
  },
  {
   "cell_type": "code",
   "execution_count": 87,
   "id": "35b0ba62",
   "metadata": {},
   "outputs": [],
   "source": [
    "BAR_FIG_SIZE = (10, 10)\n",
    "\n",
    "TITLE_SIZE = 20\n",
    "TITLE_PAD = LABEL_PAD = 15\n",
    "\n",
    "LABEL_SIZE = 15"
   ]
  },
  {
   "cell_type": "code",
   "execution_count": 88,
   "id": "9e0d48c7",
   "metadata": {},
   "outputs": [
    {
     "data": {
      "image/png": "[encoded data removed]",
      "text/plain": [
       "<Figure size 720x504 with 1 Axes>"
      ]
     },
     "metadata": {},
     "output_type": "display_data"
    }
   ],
   "source": [
    "fig, ax = plt.subplots(figsize=(10, 7))\n",
    "sns.histplot(df.review_score, kde=True, log_scale=True)\n",
    "\n",
    "ax.set_title('Score Dist (Logarithmic)', fontsize=TITLE_SIZE, pad=TITLE_PAD)\n",
    "ax.set_xlabel('Review Score', fontdict={'fontsize': LABEL_SIZE}, labelpad=LABEL_PAD)\n",
    "ax.set_ylabel('Count', fontdict={'fontsize': LABEL_SIZE}, labelpad=LABEL_PAD)\n",
    "ax.xaxis.set_major_formatter(lambda x, pos: f'{format(x, \",\")}$ ')\n",
    "\n",
    "plt.show()"
   ]
  },
  {
   "cell_type": "code",
   "execution_count": 89,
   "id": "291b5fe3",
   "metadata": {},
   "outputs": [],
   "source": [
    "top_score = df.sort_values('review_score', ascending=False)[:20] # Sort values by salary"
   ]
  },
  {
   "cell_type": "code",
   "execution_count": 90,
   "id": "dc97ef8b",
   "metadata": {},
   "outputs": [
    {
     "data": {
      "image/png": "[encoded data removed]",
      "text/plain": [
       "<Figure size 720x720 with 1 Axes>"
      ]
     },
     "metadata": {},
     "output_type": "display_data"
    }
   ],
   "source": [
    "fig, ax = plt.subplots(figsize=BAR_FIG_SIZE)\n",
    "sns.barplot(ax=ax, x='review_score', y='product_category', data=top_score, palette='coolwarm')\n",
    "\n",
    "ax.set_title('Top scores according to product category', fontsize=TITLE_SIZE, pad=TITLE_PAD)\n",
    "ax.set_xlabel('Review Score', fontdict={'fontsize': LABEL_SIZE}, labelpad=LABEL_PAD)\n",
    "ax.set_ylabel('Product category', fontdict={'fontsize': LABEL_SIZE}, labelpad=LABEL_PAD)\n",
    "ax.xaxis.set_major_formatter(lambda x, pos: f'{format(x, \",\")}$')\n",
    "\n",
    "plt.show()"
   ]
  },
  {
   "cell_type": "code",
   "execution_count": 91,
   "id": "ff559f0b",
   "metadata": {
    "colab": {
     "base_uri": "https://localhost:8080/",
     "height": 298
    },
    "id": "ff559f0b",
    "outputId": "6bf53f57-5bfc-468b-bf55-65bc397d457b"
   },
   "outputs": [
    {
     "data": {
      "image/png": "[encoded data removed]",
      "text/plain": [
       "<Figure size 432x288 with 1 Axes>"
      ]
     },
     "metadata": {},
     "output_type": "display_data"
    },
    {
     "data": {
      "text/plain": [
       "<Figure size 432x288 with 0 Axes>"
      ]
     },
     "metadata": {},
     "output_type": "display_data"
    }
   ],
   "source": [
    "sns.countplot(x='product_category', data=df, palette='hls')\n",
    "plt.show()\n",
    "plt.savefig('Count Plot')"
   ]
  },
  {
   "cell_type": "code",
   "execution_count": 92,
   "id": "c613f582",
   "metadata": {
    "colab": {
     "base_uri": "https://localhost:8080/",
     "height": 319
    },
    "id": "c613f582",
    "outputId": "96e98d59-7e3a-4639-8f11-5d32a04ede06"
   },
   "outputs": [
    {
     "data": {
      "image/png": "[encoded data removed]",
      "text/plain": [
       "<Figure size 432x288 with 1 Axes>"
      ]
     },
     "metadata": {
      "needs_background": "light"
     },
     "output_type": "display_data"
    }
   ],
   "source": [
    "%matplotlib inline\n",
    "pd.crosstab(df.product_category,df.review_score).plot(kind='line')\n",
    "plt.title('Predicting status on the basis of review scores')\n",
    "plt.xlabel('Product category')\n",
    "plt.ylabel('Review Score')\n",
    "plt.savefig('dep_svfg')"
   ]
  },
  {
   "cell_type": "code",
   "execution_count": 93,
   "id": "d32334d4",
   "metadata": {
    "colab": {
     "base_uri": "https://localhost:8080/",
     "height": 307
    },
    "id": "d32334d4",
    "outputId": "ab9d1fb5-2c39-45c9-f98d-f3bd21f06d8a"
   },
   "outputs": [
    {
     "data": {
      "image/png": "[encoded data removed]",
      "text/plain": [
       "<Figure size 432x288 with 1 Axes>"
      ]
     },
     "metadata": {
      "needs_background": "light"
     },
     "output_type": "display_data"
    }
   ],
   "source": [
    "table=pd.crosstab(df.review_score,df.product_category)\n",
    "table.div(table.sum(1).astype(float), axis=0).plot(kind='hist', stacked=True)\n",
    "plt.title('Stacked Bar Chart of status and their reviews')\n",
    "plt.xlabel('Review Score')\n",
    "plt.ylabel('Product category')\n",
    "plt.savefig('dep_symp')"
   ]
  },
  {
   "cell_type": "markdown",
   "id": "61e90384",
   "metadata": {
    "id": "b7c2bdb9"
   },
   "source": [
    "The data visulaization int he data preprocessing is done successfully describing the data insights"
   ]
  },
  {
   "cell_type": "markdown",
   "id": "6bcd5527",
   "metadata": {
    "id": "0d7fc5c1"
   },
   "source": [
    "Splitting data into train and test set"
   ]
  },
  {
   "cell_type": "code",
   "execution_count": 94,
   "id": "137a394a",
   "metadata": {
    "colab": {
     "base_uri": "https://localhost:8080/"
    },
    "id": "137a394a",
    "outputId": "2b4e6de4-6ea8-4f1c-f0e3-a7da9ca4307d"
   },
   "outputs": [
    {
     "name": "stdout",
     "output_type": "stream",
     "text": [
      "Before 32918\n",
      "After 32918\n"
     ]
    }
   ],
   "source": [
    "from sklearn.model_selection import StratifiedShuffleSplit\n",
    "print(\"Before {}\".format(len(data)))\n",
    "dataAfter = data.dropna(subset=[\"review_score\"])\n",
    "# Removes all NAN in reviews.rating\n",
    "print(\"After {}\".format(len(dataAfter)))\n",
    "dataAfter[\"review_score\"] = dataAfter[\"review_score\"].astype(int)\n",
    "split = StratifiedShuffleSplit(n_splits=5, test_size=0.2)\n",
    "for train_index, test_index in split.split(dataAfter,\n",
    "                                           dataAfter[\"review_score\"]):\n",
    "    strat_train = dataAfter.reindex(train_index)\n",
    "    strat_test = dataAfter.reindex(test_index)"
   ]
  },
  {
   "cell_type": "code",
   "execution_count": 95,
   "id": "60196874",
   "metadata": {
    "colab": {
     "base_uri": "https://localhost:8080/"
    },
    "id": "60196874",
    "outputId": "db1607ca-97a3-47ab-ba9a-39e98d123633"
   },
   "outputs": [
    {
     "name": "stdout",
     "output_type": "stream",
     "text": [
      "26334\n",
      "6584\n",
      " 5    0.584751\n",
      " 4    0.188639\n",
      " 3    0.095838\n",
      " 1    0.056501\n",
      " 2    0.046780\n",
      "-1    0.027491\n",
      "Name: review_score, dtype: float64\n"
     ]
    }
   ],
   "source": [
    "print(len(strat_train))\n",
    "print(len(strat_test))\n",
    "print(strat_test[\"review_score\"].value_counts()/len(strat_test))"
   ]
  },
  {
   "cell_type": "code",
   "execution_count": 96,
   "id": "00fbd819",
   "metadata": {
    "colab": {
     "base_uri": "https://localhost:8080/"
    },
    "id": "00fbd819",
    "outputId": "e23eb46f-6403-42ad-fb6b-555c0afb5365"
   },
   "outputs": [
    {
     "data": {
      "text/plain": [
       "Index(['review_id', 'text', 'verified', 'review_score', 'product_category'], dtype='object')"
      ]
     },
     "execution_count": 96,
     "metadata": {},
     "output_type": "execute_result"
    }
   ],
   "source": [
    "df.columns"
   ]
  },
  {
   "cell_type": "code",
   "execution_count": 97,
   "id": "fca6084b",
   "metadata": {
    "id": "fca6084b"
   },
   "outputs": [],
   "source": [
    "FIG_SIZE = (14,8)"
   ]
  },
  {
   "cell_type": "code",
   "execution_count": 98,
   "id": "9cda7f6a",
   "metadata": {
    "colab": {
     "base_uri": "https://localhost:8080/",
     "height": 206
    },
    "id": "9cda7f6a",
    "outputId": "5365d6f0-5b57-4670-cea6-2ca8b9cce6ef"
   },
   "outputs": [
    {
     "data": {
      "text/html": [
       "<div>\n",
       "<style scoped>\n",
       "    .dataframe tbody tr th:only-of-type {\n",
       "        vertical-align: middle;\n",
       "    }\n",
       "\n",
       "    .dataframe tbody tr th {\n",
       "        vertical-align: top;\n",
       "    }\n",
       "\n",
       "    .dataframe thead th {\n",
       "        text-align: right;\n",
       "    }\n",
       "</style>\n",
       "<table border=\"1\" class=\"dataframe\">\n",
       "  <thead>\n",
       "    <tr style=\"text-align: right;\">\n",
       "      <th></th>\n",
       "      <th>review_id</th>\n",
       "      <th>text</th>\n",
       "      <th>verified</th>\n",
       "      <th>review_score</th>\n",
       "      <th>product_category</th>\n",
       "    </tr>\n",
       "  </thead>\n",
       "  <tbody>\n",
       "    <tr>\n",
       "      <th>19504</th>\n",
       "      <td>product_review_019504</td>\n",
       "      <td>Bloody Roar 3 is pretty cool. It plays almost ...</td>\n",
       "      <td>False</td>\n",
       "      <td>4</td>\n",
       "      <td>video_games</td>\n",
       "    </tr>\n",
       "    <tr>\n",
       "      <th>27246</th>\n",
       "      <td>product_review_027246</td>\n",
       "      <td>Smash Bros Wii U is the best Smash Bros yet!  ...</td>\n",
       "      <td>True</td>\n",
       "      <td>5</td>\n",
       "      <td>video_games</td>\n",
       "    </tr>\n",
       "    <tr>\n",
       "      <th>8234</th>\n",
       "      <td>product_review_008234</td>\n",
       "      <td>This has saved me many, many amounts of batter...</td>\n",
       "      <td>True</td>\n",
       "      <td>4</td>\n",
       "      <td>video_games</td>\n",
       "    </tr>\n",
       "    <tr>\n",
       "      <th>17624</th>\n",
       "      <td>product_review_017624</td>\n",
       "      <td>There sometimes can really be such a thing tha...</td>\n",
       "      <td>False</td>\n",
       "      <td>2</td>\n",
       "      <td>NaN</td>\n",
       "    </tr>\n",
       "    <tr>\n",
       "      <th>13313</th>\n",
       "      <td>product_review_013313</td>\n",
       "      <td>I like metal, and this game has a lot of good ...</td>\n",
       "      <td>True</td>\n",
       "      <td>5</td>\n",
       "      <td>video_games</td>\n",
       "    </tr>\n",
       "  </tbody>\n",
       "</table>\n",
       "</div>"
      ],
      "text/plain": [
       "                   review_id  \\\n",
       "19504  product_review_019504   \n",
       "27246  product_review_027246   \n",
       "8234   product_review_008234   \n",
       "17624  product_review_017624   \n",
       "13313  product_review_013313   \n",
       "\n",
       "                                                    text verified  \\\n",
       "19504  Bloody Roar 3 is pretty cool. It plays almost ...    False   \n",
       "27246  Smash Bros Wii U is the best Smash Bros yet!  ...     True   \n",
       "8234   This has saved me many, many amounts of batter...     True   \n",
       "17624  There sometimes can really be such a thing tha...    False   \n",
       "13313  I like metal, and this game has a lot of good ...     True   \n",
       "\n",
       "       review_score product_category  \n",
       "19504             4      video_games  \n",
       "27246             5      video_games  \n",
       "8234              4      video_games  \n",
       "17624             2              NaN  \n",
       "13313             5      video_games  "
      ]
     },
     "execution_count": 98,
     "metadata": {},
     "output_type": "execute_result"
    }
   ],
   "source": [
    "data = strat_train.copy()\n",
    "data.head()"
   ]
  },
  {
   "cell_type": "code",
   "execution_count": 99,
   "id": "23dcd6db",
   "metadata": {
    "colab": {
     "base_uri": "https://localhost:8080/"
    },
    "id": "23dcd6db",
    "outputId": "c0fd30ea-df50-4ab7-a9cf-9787fc59611d"
   },
   "outputs": [
    {
     "data": {
      "text/plain": [
       "0        5.0\n",
       "1        4.0\n",
       "2        4.0\n",
       "3        5.0\n",
       "4        4.0\n",
       "        ... \n",
       "32913    5.0\n",
       "32914    4.0\n",
       "32915    5.0\n",
       "32916    4.0\n",
       "32917    4.0\n",
       "Name: review_score, Length: 32918, dtype: float64"
      ]
     },
     "execution_count": 99,
     "metadata": {},
     "output_type": "execute_result"
    }
   ],
   "source": [
    "df.review_score"
   ]
  },
  {
   "cell_type": "code",
   "execution_count": 100,
   "id": "6849850e",
   "metadata": {
    "colab": {
     "base_uri": "https://localhost:8080/",
     "height": 772
    },
    "id": "6849850e",
    "outputId": "30926991-0abc-4a60-de04-f5a4a88a78f0"
   },
   "outputs": [
    {
     "data": {
      "text/plain": [
       "<AxesSubplot:xlabel='product_category', ylabel='review_score'>"
      ]
     },
     "execution_count": 100,
     "metadata": {},
     "output_type": "execute_result"
    },
    {
     "data": {
      "image/png": "[encoded data removed]",
      "text/plain": [
       "<Figure size 432x288 with 1 Axes>"
      ]
     },
     "metadata": {},
     "output_type": "display_data"
    }
   ],
   "source": [
    "# Draw a vertical boxplot grouped \n",
    "# by a categorical variable:\n",
    "sns.set_style(\"whitegrid\")  \n",
    "sns.boxplot(x = 'product_category', y = 'review_score', data = df)"
   ]
  },
  {
   "cell_type": "code",
   "execution_count": 101,
   "id": "465c3277",
   "metadata": {
    "colab": {
     "base_uri": "https://localhost:8080/"
    },
    "id": "465c3277",
    "outputId": "57b884fc-dbc0-4cb5-cb31-786b0f819903"
   },
   "outputs": [
    {
     "data": {
      "text/plain": [
       "1021"
      ]
     },
     "execution_count": 101,
     "metadata": {},
     "output_type": "execute_result"
    }
   ],
   "source": [
    "#Looking if any null values present in the dataset\n",
    "np.sum(df.isnull().any(axis=1))"
   ]
  },
  {
   "cell_type": "code",
   "execution_count": 102,
   "id": "5e1fbc6d",
   "metadata": {
    "colab": {
     "base_uri": "https://localhost:8080/",
     "height": 423
    },
    "id": "5e1fbc6d",
    "outputId": "adda8fdc-027e-42f8-de0c-bebe267f1384"
   },
   "outputs": [
    {
     "data": {
      "text/html": [
       "<div>\n",
       "<style scoped>\n",
       "    .dataframe tbody tr th:only-of-type {\n",
       "        vertical-align: middle;\n",
       "    }\n",
       "\n",
       "    .dataframe tbody tr th {\n",
       "        vertical-align: top;\n",
       "    }\n",
       "\n",
       "    .dataframe thead th {\n",
       "        text-align: right;\n",
       "    }\n",
       "</style>\n",
       "<table border=\"1\" class=\"dataframe\">\n",
       "  <thead>\n",
       "    <tr style=\"text-align: right;\">\n",
       "      <th></th>\n",
       "      <th>review_id</th>\n",
       "      <th>text</th>\n",
       "      <th>verified</th>\n",
       "      <th>review_score</th>\n",
       "      <th>product_category</th>\n",
       "    </tr>\n",
       "  </thead>\n",
       "  <tbody>\n",
       "    <tr>\n",
       "      <th>0</th>\n",
       "      <td>product_review_000000</td>\n",
       "      <td>guitars look new.</td>\n",
       "      <td>False</td>\n",
       "      <td>5.0</td>\n",
       "      <td>musical_instruments</td>\n",
       "    </tr>\n",
       "    <tr>\n",
       "      <th>1</th>\n",
       "      <td>product_review_000001</td>\n",
       "      <td>I'd heard this game had crude humor, but man i...</td>\n",
       "      <td>True</td>\n",
       "      <td>4.0</td>\n",
       "      <td>video_games</td>\n",
       "    </tr>\n",
       "    <tr>\n",
       "      <th>2</th>\n",
       "      <td>product_review_000002</td>\n",
       "      <td>It's a decent game but nothing nearly as good ...</td>\n",
       "      <td>True</td>\n",
       "      <td>4.0</td>\n",
       "      <td>video_games</td>\n",
       "    </tr>\n",
       "    <tr>\n",
       "      <th>3</th>\n",
       "      <td>product_review_000003</td>\n",
       "      <td>This device worked exceptionally well for my X...</td>\n",
       "      <td>False</td>\n",
       "      <td>5.0</td>\n",
       "      <td>video_games</td>\n",
       "    </tr>\n",
       "    <tr>\n",
       "      <th>4</th>\n",
       "      <td>product_review_000004</td>\n",
       "      <td>great racing game, with a lot of cool cars to ...</td>\n",
       "      <td>True</td>\n",
       "      <td>4.0</td>\n",
       "      <td>video_games</td>\n",
       "    </tr>\n",
       "    <tr>\n",
       "      <th>...</th>\n",
       "      <td>...</td>\n",
       "      <td>...</td>\n",
       "      <td>...</td>\n",
       "      <td>...</td>\n",
       "      <td>...</td>\n",
       "    </tr>\n",
       "    <tr>\n",
       "      <th>32913</th>\n",
       "      <td>product_review_032913</td>\n",
       "      <td>OVERALL: This game is a must-buy by all standa...</td>\n",
       "      <td>False</td>\n",
       "      <td>5.0</td>\n",
       "      <td>video_games</td>\n",
       "    </tr>\n",
       "    <tr>\n",
       "      <th>32914</th>\n",
       "      <td>product_review_032914</td>\n",
       "      <td>I must say that I have all but given up on Son...</td>\n",
       "      <td>True</td>\n",
       "      <td>4.0</td>\n",
       "      <td>video_games</td>\n",
       "    </tr>\n",
       "    <tr>\n",
       "      <th>32915</th>\n",
       "      <td>product_review_032915</td>\n",
       "      <td>After considering various options for my 1976 ...</td>\n",
       "      <td>True</td>\n",
       "      <td>5.0</td>\n",
       "      <td>musical_instruments</td>\n",
       "    </tr>\n",
       "    <tr>\n",
       "      <th>32916</th>\n",
       "      <td>product_review_032916</td>\n",
       "      <td>We have had this for 1 day. But the charger it...</td>\n",
       "      <td>True</td>\n",
       "      <td>4.0</td>\n",
       "      <td>video_games</td>\n",
       "    </tr>\n",
       "    <tr>\n",
       "      <th>32917</th>\n",
       "      <td>product_review_032917</td>\n",
       "      <td>Easy to work with and sounds good.. Good price...</td>\n",
       "      <td>True</td>\n",
       "      <td>4.0</td>\n",
       "      <td>musical_instruments</td>\n",
       "    </tr>\n",
       "  </tbody>\n",
       "</table>\n",
       "<p>32918 rows × 5 columns</p>\n",
       "</div>"
      ],
      "text/plain": [
       "                   review_id  \\\n",
       "0      product_review_000000   \n",
       "1      product_review_000001   \n",
       "2      product_review_000002   \n",
       "3      product_review_000003   \n",
       "4      product_review_000004   \n",
       "...                      ...   \n",
       "32913  product_review_032913   \n",
       "32914  product_review_032914   \n",
       "32915  product_review_032915   \n",
       "32916  product_review_032916   \n",
       "32917  product_review_032917   \n",
       "\n",
       "                                                    text verified  \\\n",
       "0                                     guitars look new.     False   \n",
       "1      I'd heard this game had crude humor, but man i...     True   \n",
       "2      It's a decent game but nothing nearly as good ...     True   \n",
       "3      This device worked exceptionally well for my X...    False   \n",
       "4      great racing game, with a lot of cool cars to ...     True   \n",
       "...                                                  ...      ...   \n",
       "32913  OVERALL: This game is a must-buy by all standa...    False   \n",
       "32914  I must say that I have all but given up on Son...     True   \n",
       "32915  After considering various options for my 1976 ...     True   \n",
       "32916  We have had this for 1 day. But the charger it...     True   \n",
       "32917  Easy to work with and sounds good.. Good price...     True   \n",
       "\n",
       "       review_score     product_category  \n",
       "0               5.0  musical_instruments  \n",
       "1               4.0          video_games  \n",
       "2               4.0          video_games  \n",
       "3               5.0          video_games  \n",
       "4               4.0          video_games  \n",
       "...             ...                  ...  \n",
       "32913           5.0          video_games  \n",
       "32914           4.0          video_games  \n",
       "32915           5.0  musical_instruments  \n",
       "32916           4.0          video_games  \n",
       "32917           4.0  musical_instruments  \n",
       "\n",
       "[32918 rows x 5 columns]"
      ]
     },
     "execution_count": 102,
     "metadata": {},
     "output_type": "execute_result"
    }
   ],
   "source": [
    "#Filling up or replacing null values to 0\n",
    "df=df.fillna(0)\n",
    "df"
   ]
  },
  {
   "cell_type": "code",
   "execution_count": 103,
   "id": "243b4b35",
   "metadata": {
    "colab": {
     "base_uri": "https://localhost:8080/"
    },
    "id": "243b4b35",
    "outputId": "6c82a078-2b81-461f-a6a2-bb7febb9df2d"
   },
   "outputs": [
    {
     "name": "stdout",
     "output_type": "stream",
     "text": [
      "Count of columns in the data is:   5\n",
      "Count of rows in the data is:   32918\n"
     ]
    }
   ],
   "source": [
    "##Printing Columns and Rows of data\n",
    "print('Count of columns in the data is:  ', len(df.columns))\n",
    "print('Count of rows in the data is:  ', len(df))"
   ]
  },
  {
   "cell_type": "code",
   "execution_count": 104,
   "id": "4dd6ca5c",
   "metadata": {
    "id": "4dd6ca5c"
   },
   "outputs": [],
   "source": [
    "stopwordlist = ['a', 'about', 'above', 'after', 'again', 'ain', 'all', 'am', 'an',\n",
    "             'and','any','are', 'as', 'at', 'be', 'because', 'been', 'before',\n",
    "             'being', 'below', 'between','both', 'by', 'can', 'd', 'did', 'do',\n",
    "             'does', 'doing', 'down', 'during', 'each','few', 'for', 'from',\n",
    "             'further', 'had', 'has', 'have', 'having', 'he', 'her', 'here',\n",
    "             'hers', 'herself', 'him', 'himself', 'his', 'how', 'i', 'if', 'in',\n",
    "             'into','is', 'it', 'its', 'itself', 'just', 'll', 'm', 'ma',\n",
    "             'me', 'more', 'most','my', 'myself', 'now', 'o', 'of', 'on', 'once',\n",
    "             'only', 'or', 'other', 'our', 'ours','ourselves', 'out', 'own', 're','s', 'same', 'she', \"shes\", 'should', \"shouldve\",'so', 'some', 'such',\n",
    "             't', 'than', 'that', \"thatll\", 'the', 'their', 'theirs', 'them',\n",
    "             'themselves', 'then', 'there', 'these', 'they', 'this', 'those',\n",
    "             'through', 'to', 'too','under', 'until', 'up', 've', 'very', 'was',\n",
    "             'we', 'were', 'what', 'when', 'where','which','while', 'who', 'whom',\n",
    "             'why', 'will', 'with', 'won', 'y', 'you', \"youd\",\"youll\", \"youre\",\n",
    "             \"youve\", 'your', 'yours', 'yourself', 'yourselves']"
   ]
  },
  {
   "cell_type": "code",
   "execution_count": 105,
   "id": "86f607d8",
   "metadata": {
    "id": "86f607d8"
   },
   "outputs": [],
   "source": [
    "import re"
   ]
  },
  {
   "cell_type": "markdown",
   "id": "04fdb8e9",
   "metadata": {
    "id": "04fdb8e9"
   },
   "source": [
    "### Data cleaning"
   ]
  },
  {
   "cell_type": "code",
   "execution_count": 106,
   "id": "39982f7b",
   "metadata": {
    "colab": {
     "base_uri": "https://localhost:8080/"
    },
    "id": "39982f7b",
    "outputId": "f2f000d0-3eb6-4595-97d7-8395a80af79d"
   },
   "outputs": [
    {
     "data": {
      "text/plain": [
       "32913    OVERALL This game mustbuy standards The use st...\n",
       "32914    I must say I but given Sonic I played game I b...\n",
       "32915    After considering various options Fender Musta...\n",
       "32916    We day But charger its self seems work great T...\n",
       "32917             Easy work sounds good Good price quality\n",
       "Name: text, dtype: object"
      ]
     },
     "execution_count": 106,
     "metadata": {},
     "output_type": "execute_result"
    }
   ],
   "source": [
    "STOPWORDS = set(stopwordlist)\n",
    "def cleaning_stopwords(text):\n",
    "    return \" \".join([word for word in str(text).split() if word not in STOPWORDS])\n",
    "df['text'] = df['text'].apply(lambda text: cleaning_stopwords(text))\n",
    "df['text'].head()\n",
    "import string\n",
    "english_punctuations = string.punctuation\n",
    "punctuations_list = english_punctuations\n",
    "def cleaning_punctuations(text):\n",
    "    translator = str.maketrans('', '', punctuations_list)\n",
    "    return text.translate(translator)\n",
    "df['text']= df['text'].apply(lambda x: cleaning_punctuations(x))\n",
    "df['text'].tail()\n",
    "def cleaning_repeating_char(text):\n",
    "    return re.sub(r'(.)1+', r'1', text)\n",
    "df['text'] = df['text'].apply(lambda x: cleaning_repeating_char(x))\n",
    "df['text'].tail()\n",
    "def cleaning_URLs(data):\n",
    "    return re.sub('((www.[^s]+)|(https?://[^s]+))',' ',data)\n",
    "df['text'] = df['text'].apply(lambda x: cleaning_URLs(x))\n",
    "df['text'].tail()\n",
    "def cleaning_numbers(data):\n",
    "    return re.sub('[0-9]+', '', data)\n",
    "df['text'] = df['text'].apply(lambda x: cleaning_numbers(x))\n",
    "df['text'].tail()"
   ]
  },
  {
   "cell_type": "code",
   "execution_count": 107,
   "id": "8b6ab084",
   "metadata": {
    "id": "8b6ab084"
   },
   "outputs": [],
   "source": [
    "ratings = df.groupby(\"review_score\").agg({\"review_score\":\"count\"})"
   ]
  },
  {
   "cell_type": "code",
   "execution_count": 108,
   "id": "1a30ff95",
   "metadata": {
    "id": "1a30ff95"
   },
   "outputs": [],
   "source": [
    "products = df.groupby(\"product_category\").agg({\"product_category\":\"count\"})"
   ]
  },
  {
   "cell_type": "code",
   "execution_count": 109,
   "id": "cd55362e",
   "metadata": {
    "id": "cd55362e"
   },
   "outputs": [],
   "source": [
    "import matplotlib.pyplot as plt"
   ]
  },
  {
   "cell_type": "code",
   "execution_count": 110,
   "id": "34b10506",
   "metadata": {
    "colab": {
     "base_uri": "https://localhost:8080/",
     "height": 192
    },
    "id": "34b10506",
    "outputId": "45565af0-82ed-44f9-92e1-7a7da25f9b7a"
   },
   "outputs": [
    {
     "name": "stdout",
     "output_type": "stream",
     "text": [
      "Count:\n"
     ]
    },
    {
     "data": {
      "text/html": [
       "<div>\n",
       "<style scoped>\n",
       "    .dataframe tbody tr th:only-of-type {\n",
       "        vertical-align: middle;\n",
       "    }\n",
       "\n",
       "    .dataframe tbody tr th {\n",
       "        vertical-align: top;\n",
       "    }\n",
       "\n",
       "    .dataframe thead th {\n",
       "        text-align: right;\n",
       "    }\n",
       "</style>\n",
       "<table border=\"1\" class=\"dataframe\">\n",
       "  <thead>\n",
       "    <tr style=\"text-align: right;\">\n",
       "      <th></th>\n",
       "      <th>review_id</th>\n",
       "      <th>text</th>\n",
       "      <th>verified</th>\n",
       "      <th>review_score</th>\n",
       "    </tr>\n",
       "    <tr>\n",
       "      <th>product_category</th>\n",
       "      <th></th>\n",
       "      <th></th>\n",
       "      <th></th>\n",
       "      <th></th>\n",
       "    </tr>\n",
       "  </thead>\n",
       "  <tbody>\n",
       "    <tr>\n",
       "      <th>0</th>\n",
       "      <td>906</td>\n",
       "      <td>906</td>\n",
       "      <td>906</td>\n",
       "      <td>906</td>\n",
       "    </tr>\n",
       "    <tr>\n",
       "      <th>musical_instruments</th>\n",
       "      <td>10280</td>\n",
       "      <td>10280</td>\n",
       "      <td>10280</td>\n",
       "      <td>10280</td>\n",
       "    </tr>\n",
       "    <tr>\n",
       "      <th>video_games</th>\n",
       "      <td>21732</td>\n",
       "      <td>21732</td>\n",
       "      <td>21732</td>\n",
       "      <td>21732</td>\n",
       "    </tr>\n",
       "  </tbody>\n",
       "</table>\n",
       "</div>"
      ],
      "text/plain": [
       "                     review_id   text  verified  review_score\n",
       "product_category                                             \n",
       "0                          906    906       906           906\n",
       "musical_instruments      10280  10280     10280         10280\n",
       "video_games              21732  21732     21732         21732"
      ]
     },
     "metadata": {},
     "output_type": "display_data"
    }
   ],
   "source": [
    "#Check the balance\n",
    "print ('Count:')\n",
    "display(df.groupby('product_category').count())"
   ]
  },
  {
   "cell_type": "markdown",
   "id": "c599f59b",
   "metadata": {
    "id": "c599f59b"
   },
   "source": [
    "### Data splitting"
   ]
  },
  {
   "cell_type": "code",
   "execution_count": 111,
   "id": "e25bb54f",
   "metadata": {
    "colab": {
     "base_uri": "https://localhost:8080/"
    },
    "id": "e25bb54f",
    "outputId": "4728ea54-8733-4669-ebda-a27783b87c71"
   },
   "outputs": [
    {
     "name": "stdout",
     "output_type": "stream",
     "text": [
      "<class 'pandas.core.frame.DataFrame'>\n",
      "RangeIndex: 32918 entries, 0 to 32917\n",
      "Data columns (total 5 columns):\n",
      " #   Column            Non-Null Count  Dtype  \n",
      "---  ------            --------------  -----  \n",
      " 0   review_id         32918 non-null  object \n",
      " 1   text              32918 non-null  object \n",
      " 2   verified          32918 non-null  object \n",
      " 3   review_score      32918 non-null  float64\n",
      " 4   product_category  32918 non-null  object \n",
      "dtypes: float64(1), object(4)\n",
      "memory usage: 1.3+ MB\n"
     ]
    }
   ],
   "source": [
    "df.info()"
   ]
  },
  {
   "cell_type": "code",
   "execution_count": 112,
   "id": "8d31c9b1",
   "metadata": {
    "id": "8d31c9b1"
   },
   "outputs": [],
   "source": [
    "X=data.review_score\n",
    "y=data.product_category"
   ]
  },
  {
   "cell_type": "code",
   "execution_count": 113,
   "id": "27e85080",
   "metadata": {
    "colab": {
     "base_uri": "https://localhost:8080/",
     "height": 52
    },
    "id": "27e85080",
    "outputId": "290311d4-338a-4a4b-dde6-c45350e9b0c8"
   },
   "outputs": [
    {
     "data": {
      "text/plain": [
       "<Figure size 1440x1440 with 0 Axes>"
      ]
     },
     "execution_count": 113,
     "metadata": {},
     "output_type": "execute_result"
    },
    {
     "data": {
      "text/plain": [
       "<Figure size 1440x1440 with 0 Axes>"
      ]
     },
     "metadata": {},
     "output_type": "display_data"
    }
   ],
   "source": [
    "data_neg = data['text'][:800000]\n",
    "plt.figure(figsize = (20,20))\n",
    "#wc = wordCloud(max_words = 1000 , width = 1600 , height = 800    "
   ]
  },
  {
   "cell_type": "code",
   "execution_count": 114,
   "id": "7d9f8f21",
   "metadata": {
    "id": "7d9f8f21"
   },
   "outputs": [],
   "source": [
    "# sklearn\n",
    "from sklearn.svm import LinearSVC\n",
    "from sklearn.naive_bayes import BernoulliNB\n",
    "from sklearn.linear_model import LogisticRegression\n",
    "from sklearn.model_selection import train_test_split\n",
    "from sklearn.metrics import confusion_matrix, classification_report\n",
    "from sklearn.feature_extraction.text import CountVectorizer, TfidfVectorizer\n",
    "\n",
    "from tensorflow.keras import preprocessing\n",
    "from tensorflow.keras.preprocessing.text import Tokenizer\n",
    "from tensorflow.keras.preprocessing.sequence import pad_sequences"
   ]
  },
  {
   "cell_type": "markdown",
   "id": "d1a7fc63",
   "metadata": {},
   "source": [
    "### Train and test split"
   ]
  },
  {
   "cell_type": "code",
   "execution_count": 115,
   "id": "44e2f8ab",
   "metadata": {
    "colab": {
     "base_uri": "https://localhost:8080/"
    },
    "id": "44e2f8ab",
    "outputId": "aa2855f6-563f-483f-8cfe-32620f05fcff"
   },
   "outputs": [
    {
     "name": "stdout",
     "output_type": "stream",
     "text": [
      "(32918,) (32918,)\n",
      "(32918,) (32918,)\n"
     ]
    }
   ],
   "source": [
    "#split the dataset  \n",
    "#train dataset\n",
    "train_reviews=df.text[:40000]\n",
    "train_product_category=df.product_category[:40000]\n",
    "#test dataset\n",
    "test_reviews=df.review_score[:40000]\n",
    "test_product_category=df.product_category[:40000]\n",
    "print(train_reviews.shape,train_product_category.shape)\n",
    "print(test_reviews.shape,test_product_category.shape)"
   ]
  },
  {
   "cell_type": "code",
   "execution_count": 116,
   "id": "0fb7a630",
   "metadata": {
    "id": "0fb7a630"
   },
   "outputs": [],
   "source": [
    "#defining two variables\n",
    "x = pd.DataFrame(df['text'])\n",
    "y = pd.DataFrame(df.review_score)\n",
    "df.reviewText = df.text.astype('str')"
   ]
  },
  {
   "cell_type": "code",
   "execution_count": 117,
   "id": "1daa17f7",
   "metadata": {
    "id": "1daa17f7"
   },
   "outputs": [],
   "source": [
    "x_train,x_test,y_train,y_test = train_test_split(df.text,df.review_score,test_size = 0.2 , random_state = 0)"
   ]
  },
  {
   "cell_type": "markdown",
   "id": "d1339af0",
   "metadata": {},
   "source": [
    "### bow (bag of words-vectorization)"
   ]
  },
  {
   "cell_type": "code",
   "execution_count": 118,
   "id": "82308ea7",
   "metadata": {
    "colab": {
     "base_uri": "https://localhost:8080/"
    },
    "id": "82308ea7",
    "outputId": "db4c3bff-61e5-4c3a-9b89-5c3b1b9a4279"
   },
   "outputs": [
    {
     "name": "stdout",
     "output_type": "stream",
     "text": [
      "bow_x_train: (26334, 2016488)\n",
      "bow_x_test: (6584, 2016488)\n"
     ]
    }
   ],
   "source": [
    "#bow (bag of words-vectorization)\n",
    "cv=CountVectorizer(min_df=0,max_df=1,binary=False,ngram_range=(1,3))\n",
    "bow_x_train = cv.fit_transform(x_train)\n",
    "bow_x_test = cv.transform(x_test)\n",
    "\n",
    "print('bow_x_train:',bow_x_train.shape)\n",
    "print('bow_x_test:',bow_x_test.shape)"
   ]
  },
  {
   "cell_type": "markdown",
   "id": "a7002ce0",
   "metadata": {
    "id": "0068077f"
   },
   "source": [
    "### Tf-idf (Term Frequency-Inverse Document Frequency)"
   ]
  },
  {
   "cell_type": "code",
   "execution_count": 119,
   "id": "fddb7725",
   "metadata": {
    "colab": {
     "base_uri": "https://localhost:8080/"
    },
    "id": "fddb7725",
    "outputId": "9b5fc41a-39e4-4da7-d357-54448733e394"
   },
   "outputs": [
    {
     "name": "stdout",
     "output_type": "stream",
     "text": [
      "tfidf_x_train: (26334, 2016488)\n",
      "tfidf_x_test: (6584, 2016488)\n"
     ]
    }
   ],
   "source": [
    "#tf-idf (Term Frequency-Inverse Document Frequency)\n",
    "from sklearn.feature_extraction.text import TfidfVectorizer\n",
    "tv=TfidfVectorizer(min_df=0,max_df=1,use_idf=True,ngram_range=(1,3))\n",
    "\n",
    "tfidf_x_train =tv.fit_transform(x_train)\n",
    "tfidf_x_test =tv.transform(x_test)\n",
    "\n",
    "print('tfidf_x_train:',tfidf_x_train.shape)\n",
    "print('tfidf_x_test:',tfidf_x_test.shape)"
   ]
  },
  {
   "cell_type": "code",
   "execution_count": 120,
   "id": "bf18affa",
   "metadata": {
    "id": "bf18affa"
   },
   "outputs": [],
   "source": [
    "#importng libraries for algorithms\n",
    "from sklearn.metrics import accuracy_score\n",
    "from sklearn.naive_bayes import MultinomialNB\n",
    "from sklearn.linear_model import LogisticRegression\n",
    "from sklearn.ensemble import RandomForestClassifier\n",
    "from sklearn.svm import LinearSVC\n",
    "from sklearn.model_selection import cross_val_score"
   ]
  },
  {
   "cell_type": "markdown",
   "id": "507b16f9",
   "metadata": {},
   "source": [
    "### Naive Bayes"
   ]
  },
  {
   "cell_type": "code",
   "execution_count": 121,
   "id": "daa42b35",
   "metadata": {
    "colab": {
     "base_uri": "https://localhost:8080/"
    },
    "id": "daa42b35",
    "outputId": "dfd49f2d-cdeb-4842-c469-3a323b7819cf"
   },
   "outputs": [
    {
     "name": "stdout",
     "output_type": "stream",
     "text": [
      "nb bow accuracy: 0.6029769137302552\n",
      "tfidf accuracy: 0.5867253948967193\n"
     ]
    }
   ],
   "source": [
    "#Naive Bayes\n",
    "nb = MultinomialNB()\n",
    "\n",
    "#fit\n",
    "bow = nb.fit(bow_x_train, y_train)\n",
    "tfidf = nb.fit(tfidf_x_train, y_train)\n",
    "\n",
    "#predict\n",
    "bow_predict = nb.predict(bow_x_test)\n",
    "tfidf_predict = nb.predict(tfidf_x_test)\n",
    "\n",
    "#accuracy\n",
    "nb_bow = accuracy_score(y_test, bow_predict)\n",
    "nb_tfidf = accuracy_score(y_test,tfidf_predict)\n",
    "\n",
    "print('nb bow accuracy:', nb_bow)\n",
    "print('tfidf accuracy:', nb_tfidf)"
   ]
  },
  {
   "cell_type": "code",
   "execution_count": 41,
   "id": "8651efe6",
   "metadata": {
    "colab": {
     "base_uri": "https://localhost:8080/"
    },
    "id": "8651efe6",
    "outputId": "f24f5a38-6e0a-4f2b-e9b2-624209b4cf74"
   },
   "outputs": [
    {
     "name": "stdout",
     "output_type": "stream",
     "text": [
      "lr bow accuracy: 0.6010024301336574\n",
      "lr tfidf accuracy: 0.5803462940461726\n"
     ]
    }
   ],
   "source": [
    "#logistic regression\n",
    "lr = LogisticRegression(random_state=0)\n",
    "\n",
    "#fit\n",
    "bow = lr.fit(bow_x_train, y_train)\n",
    "tfidf = lr.fit(tfidf_x_train, y_train)\n",
    "\n",
    "#predict\n",
    "bow_predict = lr.predict(bow_x_test)\n",
    "tfidf_predict = lr.predict(tfidf_x_test)\n",
    "\n",
    "#accuracy\n",
    "lr_bow = accuracy_score(y_test, bow_predict)\n",
    "lr_tfidf = accuracy_score(y_test,tfidf_predict)\n",
    "\n",
    "print('lr bow accuracy:', lr_bow)\n",
    "print('lr tfidf accuracy:', lr_tfidf)"
   ]
  },
  {
   "cell_type": "code",
   "execution_count": 122,
   "id": "530d4c40",
   "metadata": {
    "colab": {
     "base_uri": "https://localhost:8080/"
    },
    "id": "530d4c40",
    "outputId": "0aa8b91e-070c-49e8-ee9b-8df89cd8f894"
   },
   "outputs": [
    {
     "name": "stdout",
     "output_type": "stream",
     "text": [
      "              precision    recall  f1-score   support\n",
      "\n",
      "        -1.0       0.00      0.00      0.00       162\n",
      "         1.0       0.78      0.08      0.14       376\n",
      "         2.0       0.88      0.08      0.14       304\n",
      "         3.0       0.83      0.10      0.17       598\n",
      "         4.0       0.69      0.09      0.17      1323\n",
      "         5.0       0.61      0.98      0.75      3821\n",
      "\n",
      "    accuracy                           0.60      6584\n",
      "   macro avg       0.63      0.22      0.23      6584\n",
      "weighted avg       0.65      0.60      0.50      6584\n",
      "\n"
     ]
    }
   ],
   "source": [
    "#classification report for bow\n",
    "print(classification_report(y_test, bow_predict))"
   ]
  },
  {
   "cell_type": "code",
   "execution_count": 123,
   "id": "4a3ca55e",
   "metadata": {
    "colab": {
     "base_uri": "https://localhost:8080/"
    },
    "id": "4a3ca55e",
    "outputId": "56365ce1-80b9-4cdf-8562-305f9ec06ad2"
   },
   "outputs": [
    {
     "name": "stdout",
     "output_type": "stream",
     "text": [
      "              precision    recall  f1-score   support\n",
      "\n",
      "        -1.0       0.00      0.00      0.00       162\n",
      "         1.0       1.00      0.00      0.01       376\n",
      "         2.0       0.00      0.00      0.00       304\n",
      "         3.0       0.00      0.00      0.00       598\n",
      "         4.0       0.77      0.03      0.06      1323\n",
      "         5.0       0.59      1.00      0.74      3821\n",
      "\n",
      "    accuracy                           0.59      6584\n",
      "   macro avg       0.39      0.17      0.13      6584\n",
      "weighted avg       0.55      0.59      0.44      6584\n",
      "\n"
     ]
    }
   ],
   "source": [
    "#classification report for tfidf\n",
    "print(classification_report(y_test, tfidf_predict))"
   ]
  },
  {
   "cell_type": "markdown",
   "id": "85710692",
   "metadata": {},
   "source": [
    "### Confusion matrix"
   ]
  },
  {
   "cell_type": "code",
   "execution_count": 124,
   "id": "a64daae7",
   "metadata": {},
   "outputs": [],
   "source": [
    "from sklearn import metrics"
   ]
  },
  {
   "cell_type": "code",
   "execution_count": 125,
   "id": "3ac1c90c",
   "metadata": {},
   "outputs": [
    {
     "name": "stdout",
     "output_type": "stream",
     "text": [
      "Confusion matrix:\n",
      "[[   0    8    3   10   27  114]\n",
      " [  11   29    0    0    4  332]\n",
      " [   7    0   23    0    4  270]\n",
      " [  13    0    0   58    7  520]\n",
      " [  25    0    0    1  124 1173]\n",
      " [  71    0    0    1   13 3736]]\n"
     ]
    }
   ],
   "source": [
    "print(\"Confusion matrix:\")\n",
    "print(metrics.confusion_matrix(y_test, bow_predict))"
   ]
  },
  {
   "cell_type": "code",
   "execution_count": 126,
   "id": "66a480e5",
   "metadata": {},
   "outputs": [
    {
     "name": "stdout",
     "output_type": "stream",
     "text": [
      "Confusion matrix:\n",
      "[[   0    0    0    0   12  150]\n",
      " [   0    1    0    0    0  375]\n",
      " [   0    0    0    0    0  304]\n",
      " [   0    0    0    0    0  598]\n",
      " [   0    0    0    0   41 1282]\n",
      " [   0    0    0    0    0 3821]]\n"
     ]
    }
   ],
   "source": [
    "print(\"Confusion matrix:\")\n",
    "print(metrics.confusion_matrix(y_test, tfidf_predict))"
   ]
  },
  {
   "cell_type": "code",
   "execution_count": 127,
   "id": "d7fb2613",
   "metadata": {
    "colab": {
     "base_uri": "https://localhost:8080/"
    },
    "id": "d7fb2613",
    "outputId": "c1f76186-96e0-42d7-be0b-ee37def169b3"
   },
   "outputs": [
    {
     "name": "stdout",
     "output_type": "stream",
     "text": [
      "    accuracy              model\n",
      "0  60.297691    naive bayes bow\n",
      "1  58.672539  naive bayes tfidf\n",
      "2  60.100243          logit bow\n",
      "3  58.034629        logit tfidf\n"
     ]
    }
   ],
   "source": [
    "data = {'accuracy': [nb_bow * 100, nb_tfidf * 100, lr_bow * 100, lr_tfidf * 100,],\n",
    "                   'model': ['naive bayes bow', 'naive bayes tfidf', 'logit bow', 'logit tfidf']}\n",
    "df = pd.DataFrame(data, columns = ['accuracy', 'model'])\n",
    "print(df.head(8))"
   ]
  },
  {
   "cell_type": "code",
   "execution_count": 128,
   "id": "f92409c0",
   "metadata": {
    "colab": {
     "base_uri": "https://localhost:8080/",
     "height": 475
    },
    "id": "f92409c0",
    "outputId": "ffa54ccf-43d9-43a2-8154-48fc2e31da27"
   },
   "outputs": [
    {
     "data": {
      "text/plain": [
       "Text(0.5, 1.0, 'Accuarcy for models')"
      ]
     },
     "execution_count": 128,
     "metadata": {},
     "output_type": "execute_result"
    },
    {
     "data": {
      "image/png": "[encoded data removed]",
      "text/plain": [
       "<Figure size 1224x504 with 1 Axes>"
      ]
     },
     "metadata": {},
     "output_type": "display_data"
    }
   ],
   "source": [
    "#graph for every model\n",
    "plt.figure(figsize = (17,7))\n",
    "sns.histplot(y = df.accuracy, x = df.model)\n",
    "plt.title('Accuarcy for models')"
   ]
  },
  {
   "cell_type": "markdown",
   "id": "6715aabd",
   "metadata": {},
   "source": [
    "Conclusion - The applied machine learning methods in describing the naive bayes and logistic regresision with tarin and test split data and printing the classification result using precsiison and recall and printing confusion matrix successfully "
   ]
  },
  {
   "cell_type": "code",
   "execution_count": null,
   "id": "08a2780d",
   "metadata": {},
   "outputs": [],
   "source": []
  }
 ],
 "metadata": {
  "colab": {
   "name": "text_classification.ipynb",
   "provenance": []
  },
  "kernelspec": {
   "display_name": "Python 3 (ipykernel)",
   "language": "python",
   "name": "python3"
  },
  "language_info": {
   "codemirror_mode": {
    "name": "ipython",
    "version": 3
   },
   "file_extension": ".py",
   "mimetype": "text/x-python",
   "name": "python",
   "nbconvert_exporter": "python",
   "pygments_lexer": "ipython3",
   "version": "3.9.7"
  }
 },
 "nbformat": 4,
 "nbformat_minor": 5
}
